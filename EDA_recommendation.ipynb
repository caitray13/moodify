{
 "cells": [
  {
   "cell_type": "markdown",
   "id": "d5e01c4d-2913-4e64-a3da-4a8621f2ab5c",
   "metadata": {},
   "source": [
    "This notebook explores two ways to make song recommendations:\n",
    "1. Using spotify labels such as 'acousticness', 'tempo'\n",
    "2. Using lyrics of songs\n",
    "\n",
    "Using the spotify labels alone doesn't seem to result in very good recommendations.\n",
    "\n",
    "However, using song lyrics and LDA, we get some better results.\n",
    "\n",
    "TODO: Explore song lyrics in conjunction with images of sound waves."
   ]
  },
  {
   "cell_type": "code",
   "execution_count": 1,
   "id": "89ff8305-1556-4abb-963f-5a520fd1bfab",
   "metadata": {},
   "outputs": [],
   "source": [
    "import itertools\n",
    "import os\n",
    "\n",
    "import lyricsgenius as lg\n",
    "import numpy as np\n",
    "import pandas as pd\n",
    "from sklearn.decomposition import LatentDirichletAllocation\n",
    "from sklearn.feature_extraction.text import CountVectorizer#TfidfVectorizer\n",
    "from sklearn.metrics.pairwise import cosine_similarity\n",
    "from sklearn.preprocessing import StandardScaler\n",
    "\n",
    "from spotify import SpotifyService\n",
    "from record_collection import RecordCollection\n",
    "import utils\n",
    "\n",
    "pd.set_option('display.max_columns', 50)"
   ]
  },
  {
   "cell_type": "code",
   "execution_count": 2,
   "id": "f5bd53c2-6c24-4b0a-9cac-3e45f747c61e",
   "metadata": {},
   "outputs": [],
   "source": [
    "spotifyService = SpotifyService(scope='user-read-recently-played')\n",
    "recordCollection = RecordCollection()\n",
    "recordCollection.build_collection(spotifyService)"
   ]
  },
  {
   "cell_type": "code",
   "execution_count": 3,
   "id": "64a8054d-9c73-4215-8859-55d5e6a032ac",
   "metadata": {},
   "outputs": [],
   "source": [
    "tracks = recordCollection.tracks"
   ]
  },
  {
   "cell_type": "code",
   "execution_count": 4,
   "id": "fe3bb172-147c-4d09-bf8a-a1df8b6bfcb6",
   "metadata": {},
   "outputs": [
    {
     "data": {
      "text/plain": [
       "713"
      ]
     },
     "execution_count": 4,
     "metadata": {},
     "output_type": "execute_result"
    }
   ],
   "source": [
    "len(tracks)"
   ]
  },
  {
   "cell_type": "code",
   "execution_count": 5,
   "id": "19f97551-b232-46ea-9127-239c1c6dafc8",
   "metadata": {},
   "outputs": [],
   "source": [
    "_audio_features = spotifyService.get_audio_features(tracks)"
   ]
  },
  {
   "cell_type": "code",
   "execution_count": 6,
   "id": "9d708639-11df-45a0-931e-8718deda8fb7",
   "metadata": {},
   "outputs": [],
   "source": [
    "def get_track_name_and_artist(track_uri):\n",
    "    r = spotifyService.spotipyClient.track(track_uri)\n",
    "    return r['name'], r['album']['artists'][0]['name']"
   ]
  },
  {
   "cell_type": "code",
   "execution_count": 7,
   "id": "2c9fe127-3e91-494c-b90e-f358bcb3e554",
   "metadata": {},
   "outputs": [
    {
     "data": {
      "text/html": [
       "<div>\n",
       "<style scoped>\n",
       "    .dataframe tbody tr th:only-of-type {\n",
       "        vertical-align: middle;\n",
       "    }\n",
       "\n",
       "    .dataframe tbody tr th {\n",
       "        vertical-align: top;\n",
       "    }\n",
       "\n",
       "    .dataframe thead th {\n",
       "        text-align: right;\n",
       "    }\n",
       "</style>\n",
       "<table border=\"1\" class=\"dataframe\">\n",
       "  <thead>\n",
       "    <tr style=\"text-align: right;\">\n",
       "      <th></th>\n",
       "      <th>danceability</th>\n",
       "      <th>energy</th>\n",
       "      <th>key</th>\n",
       "      <th>loudness</th>\n",
       "      <th>mode</th>\n",
       "      <th>speechiness</th>\n",
       "      <th>acousticness</th>\n",
       "      <th>instrumentalness</th>\n",
       "      <th>liveness</th>\n",
       "      <th>valence</th>\n",
       "      <th>tempo</th>\n",
       "      <th>type</th>\n",
       "      <th>id</th>\n",
       "      <th>uri</th>\n",
       "      <th>track_href</th>\n",
       "      <th>analysis_url</th>\n",
       "      <th>duration_ms</th>\n",
       "      <th>time_signature</th>\n",
       "      <th>track_name</th>\n",
       "      <th>artist</th>\n",
       "    </tr>\n",
       "  </thead>\n",
       "  <tbody>\n",
       "    <tr>\n",
       "      <th>spotify:track:3tn5eJxxrG6RmKQcxRaCXG</th>\n",
       "      <td>0.318</td>\n",
       "      <td>0.646</td>\n",
       "      <td>5</td>\n",
       "      <td>-7.150</td>\n",
       "      <td>0</td>\n",
       "      <td>0.0392</td>\n",
       "      <td>0.00521</td>\n",
       "      <td>0.172000</td>\n",
       "      <td>0.0679</td>\n",
       "      <td>0.172</td>\n",
       "      <td>125.986</td>\n",
       "      <td>audio_features</td>\n",
       "      <td>3tn5eJxxrG6RmKQcxRaCXG</td>\n",
       "      <td>spotify:track:3tn5eJxxrG6RmKQcxRaCXG</td>\n",
       "      <td>https://api.spotify.com/v1/tracks/3tn5eJxxrG6R...</td>\n",
       "      <td>https://api.spotify.com/v1/audio-analysis/3tn5...</td>\n",
       "      <td>382800</td>\n",
       "      <td>4</td>\n",
       "      <td>Who's Your Money On? (Plastic House)</td>\n",
       "      <td>Inhaler</td>\n",
       "    </tr>\n",
       "    <tr>\n",
       "      <th>spotify:track:2sJHJITMt2SYuim7KvK8yG</th>\n",
       "      <td>0.602</td>\n",
       "      <td>0.849</td>\n",
       "      <td>9</td>\n",
       "      <td>-7.033</td>\n",
       "      <td>1</td>\n",
       "      <td>0.0330</td>\n",
       "      <td>0.01700</td>\n",
       "      <td>0.000166</td>\n",
       "      <td>0.1850</td>\n",
       "      <td>0.690</td>\n",
       "      <td>114.974</td>\n",
       "      <td>audio_features</td>\n",
       "      <td>2sJHJITMt2SYuim7KvK8yG</td>\n",
       "      <td>spotify:track:2sJHJITMt2SYuim7KvK8yG</td>\n",
       "      <td>https://api.spotify.com/v1/tracks/2sJHJITMt2SY...</td>\n",
       "      <td>https://api.spotify.com/v1/audio-analysis/2sJH...</td>\n",
       "      <td>223897</td>\n",
       "      <td>4</td>\n",
       "      <td>Ice Cream Sundae</td>\n",
       "      <td>Inhaler</td>\n",
       "    </tr>\n",
       "  </tbody>\n",
       "</table>\n",
       "</div>"
      ],
      "text/plain": [
       "                                      danceability  energy  key  loudness  \\\n",
       "spotify:track:3tn5eJxxrG6RmKQcxRaCXG         0.318   0.646    5    -7.150   \n",
       "spotify:track:2sJHJITMt2SYuim7KvK8yG         0.602   0.849    9    -7.033   \n",
       "\n",
       "                                      mode  speechiness  acousticness  \\\n",
       "spotify:track:3tn5eJxxrG6RmKQcxRaCXG     0       0.0392       0.00521   \n",
       "spotify:track:2sJHJITMt2SYuim7KvK8yG     1       0.0330       0.01700   \n",
       "\n",
       "                                      instrumentalness  liveness  valence  \\\n",
       "spotify:track:3tn5eJxxrG6RmKQcxRaCXG          0.172000    0.0679    0.172   \n",
       "spotify:track:2sJHJITMt2SYuim7KvK8yG          0.000166    0.1850    0.690   \n",
       "\n",
       "                                        tempo            type  \\\n",
       "spotify:track:3tn5eJxxrG6RmKQcxRaCXG  125.986  audio_features   \n",
       "spotify:track:2sJHJITMt2SYuim7KvK8yG  114.974  audio_features   \n",
       "\n",
       "                                                          id  \\\n",
       "spotify:track:3tn5eJxxrG6RmKQcxRaCXG  3tn5eJxxrG6RmKQcxRaCXG   \n",
       "spotify:track:2sJHJITMt2SYuim7KvK8yG  2sJHJITMt2SYuim7KvK8yG   \n",
       "\n",
       "                                                                       uri  \\\n",
       "spotify:track:3tn5eJxxrG6RmKQcxRaCXG  spotify:track:3tn5eJxxrG6RmKQcxRaCXG   \n",
       "spotify:track:2sJHJITMt2SYuim7KvK8yG  spotify:track:2sJHJITMt2SYuim7KvK8yG   \n",
       "\n",
       "                                                                             track_href  \\\n",
       "spotify:track:3tn5eJxxrG6RmKQcxRaCXG  https://api.spotify.com/v1/tracks/3tn5eJxxrG6R...   \n",
       "spotify:track:2sJHJITMt2SYuim7KvK8yG  https://api.spotify.com/v1/tracks/2sJHJITMt2SY...   \n",
       "\n",
       "                                                                           analysis_url  \\\n",
       "spotify:track:3tn5eJxxrG6RmKQcxRaCXG  https://api.spotify.com/v1/audio-analysis/3tn5...   \n",
       "spotify:track:2sJHJITMt2SYuim7KvK8yG  https://api.spotify.com/v1/audio-analysis/2sJH...   \n",
       "\n",
       "                                      duration_ms  time_signature  \\\n",
       "spotify:track:3tn5eJxxrG6RmKQcxRaCXG       382800               4   \n",
       "spotify:track:2sJHJITMt2SYuim7KvK8yG       223897               4   \n",
       "\n",
       "                                                                track_name  \\\n",
       "spotify:track:3tn5eJxxrG6RmKQcxRaCXG  Who's Your Money On? (Plastic House)   \n",
       "spotify:track:2sJHJITMt2SYuim7KvK8yG                      Ice Cream Sundae   \n",
       "\n",
       "                                       artist  \n",
       "spotify:track:3tn5eJxxrG6RmKQcxRaCXG  Inhaler  \n",
       "spotify:track:2sJHJITMt2SYuim7KvK8yG  Inhaler  "
      ]
     },
     "execution_count": 7,
     "metadata": {},
     "output_type": "execute_result"
    }
   ],
   "source": [
    "audio_features_df = pd.DataFrame.from_dict(_audio_features, orient='index')\n",
    "audio_features_df['track_name'], audio_features_df['artist'] = zip(*audio_features_df.reset_index()['index'].map(get_track_name_and_artist))\n",
    "audio_features_df.head(2)"
   ]
  },
  {
   "cell_type": "code",
   "execution_count": 8,
   "id": "962f6a60-3951-4a5f-9a7f-b0a555b20eeb",
   "metadata": {},
   "outputs": [
    {
     "data": {
      "text/html": [
       "<div>\n",
       "<style scoped>\n",
       "    .dataframe tbody tr th:only-of-type {\n",
       "        vertical-align: middle;\n",
       "    }\n",
       "\n",
       "    .dataframe tbody tr th {\n",
       "        vertical-align: top;\n",
       "    }\n",
       "\n",
       "    .dataframe thead th {\n",
       "        text-align: right;\n",
       "    }\n",
       "</style>\n",
       "<table border=\"1\" class=\"dataframe\">\n",
       "  <thead>\n",
       "    <tr style=\"text-align: right;\">\n",
       "      <th></th>\n",
       "      <th>danceability</th>\n",
       "      <th>energy</th>\n",
       "      <th>key</th>\n",
       "      <th>loudness</th>\n",
       "      <th>mode</th>\n",
       "      <th>speechiness</th>\n",
       "      <th>acousticness</th>\n",
       "      <th>instrumentalness</th>\n",
       "      <th>liveness</th>\n",
       "      <th>valence</th>\n",
       "      <th>tempo</th>\n",
       "      <th>type</th>\n",
       "      <th>id</th>\n",
       "      <th>uri</th>\n",
       "      <th>track_href</th>\n",
       "      <th>analysis_url</th>\n",
       "      <th>duration_ms</th>\n",
       "      <th>time_signature</th>\n",
       "      <th>track_name</th>\n",
       "      <th>artist</th>\n",
       "      <th>key_1</th>\n",
       "      <th>key_10</th>\n",
       "      <th>key_11</th>\n",
       "      <th>key_2</th>\n",
       "      <th>key_3</th>\n",
       "      <th>key_4</th>\n",
       "      <th>key_5</th>\n",
       "      <th>key_6</th>\n",
       "      <th>key_7</th>\n",
       "      <th>key_8</th>\n",
       "      <th>key_9</th>\n",
       "      <th>time_signature_3</th>\n",
       "      <th>time_signature_4</th>\n",
       "      <th>time_signature_5</th>\n",
       "    </tr>\n",
       "  </thead>\n",
       "  <tbody>\n",
       "    <tr>\n",
       "      <th>spotify:track:3tn5eJxxrG6RmKQcxRaCXG</th>\n",
       "      <td>0.318</td>\n",
       "      <td>0.646</td>\n",
       "      <td>5</td>\n",
       "      <td>-7.150</td>\n",
       "      <td>0</td>\n",
       "      <td>0.0392</td>\n",
       "      <td>0.00521</td>\n",
       "      <td>0.172000</td>\n",
       "      <td>0.0679</td>\n",
       "      <td>0.172</td>\n",
       "      <td>125.986</td>\n",
       "      <td>audio_features</td>\n",
       "      <td>3tn5eJxxrG6RmKQcxRaCXG</td>\n",
       "      <td>spotify:track:3tn5eJxxrG6RmKQcxRaCXG</td>\n",
       "      <td>https://api.spotify.com/v1/tracks/3tn5eJxxrG6R...</td>\n",
       "      <td>https://api.spotify.com/v1/audio-analysis/3tn5...</td>\n",
       "      <td>382800</td>\n",
       "      <td>4</td>\n",
       "      <td>Who's Your Money On? (Plastic House)</td>\n",
       "      <td>Inhaler</td>\n",
       "      <td>0</td>\n",
       "      <td>0</td>\n",
       "      <td>0</td>\n",
       "      <td>0</td>\n",
       "      <td>0</td>\n",
       "      <td>0</td>\n",
       "      <td>1</td>\n",
       "      <td>0</td>\n",
       "      <td>0</td>\n",
       "      <td>0</td>\n",
       "      <td>0</td>\n",
       "      <td>0</td>\n",
       "      <td>1</td>\n",
       "      <td>0</td>\n",
       "    </tr>\n",
       "    <tr>\n",
       "      <th>spotify:track:2sJHJITMt2SYuim7KvK8yG</th>\n",
       "      <td>0.602</td>\n",
       "      <td>0.849</td>\n",
       "      <td>9</td>\n",
       "      <td>-7.033</td>\n",
       "      <td>1</td>\n",
       "      <td>0.0330</td>\n",
       "      <td>0.01700</td>\n",
       "      <td>0.000166</td>\n",
       "      <td>0.1850</td>\n",
       "      <td>0.690</td>\n",
       "      <td>114.974</td>\n",
       "      <td>audio_features</td>\n",
       "      <td>2sJHJITMt2SYuim7KvK8yG</td>\n",
       "      <td>spotify:track:2sJHJITMt2SYuim7KvK8yG</td>\n",
       "      <td>https://api.spotify.com/v1/tracks/2sJHJITMt2SY...</td>\n",
       "      <td>https://api.spotify.com/v1/audio-analysis/2sJH...</td>\n",
       "      <td>223897</td>\n",
       "      <td>4</td>\n",
       "      <td>Ice Cream Sundae</td>\n",
       "      <td>Inhaler</td>\n",
       "      <td>0</td>\n",
       "      <td>0</td>\n",
       "      <td>0</td>\n",
       "      <td>0</td>\n",
       "      <td>0</td>\n",
       "      <td>0</td>\n",
       "      <td>0</td>\n",
       "      <td>0</td>\n",
       "      <td>0</td>\n",
       "      <td>0</td>\n",
       "      <td>1</td>\n",
       "      <td>0</td>\n",
       "      <td>1</td>\n",
       "      <td>0</td>\n",
       "    </tr>\n",
       "  </tbody>\n",
       "</table>\n",
       "</div>"
      ],
      "text/plain": [
       "                                      danceability  energy  key  loudness  \\\n",
       "spotify:track:3tn5eJxxrG6RmKQcxRaCXG         0.318   0.646    5    -7.150   \n",
       "spotify:track:2sJHJITMt2SYuim7KvK8yG         0.602   0.849    9    -7.033   \n",
       "\n",
       "                                      mode  speechiness  acousticness  \\\n",
       "spotify:track:3tn5eJxxrG6RmKQcxRaCXG     0       0.0392       0.00521   \n",
       "spotify:track:2sJHJITMt2SYuim7KvK8yG     1       0.0330       0.01700   \n",
       "\n",
       "                                      instrumentalness  liveness  valence  \\\n",
       "spotify:track:3tn5eJxxrG6RmKQcxRaCXG          0.172000    0.0679    0.172   \n",
       "spotify:track:2sJHJITMt2SYuim7KvK8yG          0.000166    0.1850    0.690   \n",
       "\n",
       "                                        tempo            type  \\\n",
       "spotify:track:3tn5eJxxrG6RmKQcxRaCXG  125.986  audio_features   \n",
       "spotify:track:2sJHJITMt2SYuim7KvK8yG  114.974  audio_features   \n",
       "\n",
       "                                                          id  \\\n",
       "spotify:track:3tn5eJxxrG6RmKQcxRaCXG  3tn5eJxxrG6RmKQcxRaCXG   \n",
       "spotify:track:2sJHJITMt2SYuim7KvK8yG  2sJHJITMt2SYuim7KvK8yG   \n",
       "\n",
       "                                                                       uri  \\\n",
       "spotify:track:3tn5eJxxrG6RmKQcxRaCXG  spotify:track:3tn5eJxxrG6RmKQcxRaCXG   \n",
       "spotify:track:2sJHJITMt2SYuim7KvK8yG  spotify:track:2sJHJITMt2SYuim7KvK8yG   \n",
       "\n",
       "                                                                             track_href  \\\n",
       "spotify:track:3tn5eJxxrG6RmKQcxRaCXG  https://api.spotify.com/v1/tracks/3tn5eJxxrG6R...   \n",
       "spotify:track:2sJHJITMt2SYuim7KvK8yG  https://api.spotify.com/v1/tracks/2sJHJITMt2SY...   \n",
       "\n",
       "                                                                           analysis_url  \\\n",
       "spotify:track:3tn5eJxxrG6RmKQcxRaCXG  https://api.spotify.com/v1/audio-analysis/3tn5...   \n",
       "spotify:track:2sJHJITMt2SYuim7KvK8yG  https://api.spotify.com/v1/audio-analysis/2sJH...   \n",
       "\n",
       "                                      duration_ms  time_signature  \\\n",
       "spotify:track:3tn5eJxxrG6RmKQcxRaCXG       382800               4   \n",
       "spotify:track:2sJHJITMt2SYuim7KvK8yG       223897               4   \n",
       "\n",
       "                                                                track_name  \\\n",
       "spotify:track:3tn5eJxxrG6RmKQcxRaCXG  Who's Your Money On? (Plastic House)   \n",
       "spotify:track:2sJHJITMt2SYuim7KvK8yG                      Ice Cream Sundae   \n",
       "\n",
       "                                       artist  key_1  key_10  key_11  key_2  \\\n",
       "spotify:track:3tn5eJxxrG6RmKQcxRaCXG  Inhaler      0       0       0      0   \n",
       "spotify:track:2sJHJITMt2SYuim7KvK8yG  Inhaler      0       0       0      0   \n",
       "\n",
       "                                      key_3  key_4  key_5  key_6  key_7  \\\n",
       "spotify:track:3tn5eJxxrG6RmKQcxRaCXG      0      0      1      0      0   \n",
       "spotify:track:2sJHJITMt2SYuim7KvK8yG      0      0      0      0      0   \n",
       "\n",
       "                                      key_8  key_9  time_signature_3  \\\n",
       "spotify:track:3tn5eJxxrG6RmKQcxRaCXG      0      0                 0   \n",
       "spotify:track:2sJHJITMt2SYuim7KvK8yG      0      1                 0   \n",
       "\n",
       "                                      time_signature_4  time_signature_5  \n",
       "spotify:track:3tn5eJxxrG6RmKQcxRaCXG                 1                 0  \n",
       "spotify:track:2sJHJITMt2SYuim7KvK8yG                 1                 0  "
      ]
     },
     "execution_count": 8,
     "metadata": {},
     "output_type": "execute_result"
    }
   ],
   "source": [
    "key_categories = pd.get_dummies(audio_features_df['key'].map(str), prefix='key', drop_first=True)\n",
    "time_signature_categories = pd.get_dummies(audio_features_df['time_signature'], prefix='time_signature', drop_first=True)\n",
    "\n",
    "audio_features_df_encoded = pd.concat([audio_features_df, key_categories, time_signature_categories], axis=1)\n",
    "audio_features_df_encoded.head(2)"
   ]
  },
  {
   "cell_type": "markdown",
   "id": "f7639bfd-17b7-44e9-acb1-63f6df76d0e4",
   "metadata": {},
   "source": [
    "### 1. Get similar songs using spotify labels"
   ]
  },
  {
   "cell_type": "code",
   "execution_count": 9,
   "id": "b48f5486-5076-402d-b79e-593d04447a31",
   "metadata": {},
   "outputs": [],
   "source": [
    "AUDIO_FEATURES = list(itertools.chain(['danceability', 'energy', 'loudness', 'mode', 'speechiness', 'acousticness', 'instrumentalness', 'liveness', 'valence', 'tempo'], key_categories.columns.tolist(), time_signature_categories.columns.tolist()))\n",
    "\n",
    "X, y, z = audio_features_df_encoded[AUDIO_FEATURES], audio_features_df_encoded['track_name'], audio_features_df_encoded['artist']"
   ]
  },
  {
   "cell_type": "code",
   "execution_count": 10,
   "id": "3dd3a8d0-2af6-4926-9105-008251939e74",
   "metadata": {},
   "outputs": [],
   "source": [
    "standardScaler = StandardScaler()\n",
    "X_scaled = standardScaler.fit_transform(X)"
   ]
  },
  {
   "cell_type": "code",
   "execution_count": 11,
   "id": "0b1eb61e-7cc9-43d7-b68e-2a776ec8434f",
   "metadata": {},
   "outputs": [],
   "source": [
    "similarity_matrix = cosine_similarity(X_scaled)"
   ]
  },
  {
   "cell_type": "code",
   "execution_count": 15,
   "id": "028767e4-2260-480d-9772-e7b133d7f543",
   "metadata": {},
   "outputs": [
    {
     "data": {
      "text/plain": [
       "[('Brave Face', 'Frank Turner'),\n",
       " ('Never Change', 'Picture This'),\n",
       " ('My Church', 'Maren Morris'),\n",
       " ('Ice Cream Sundae', 'Inhaler'),\n",
       " ('Violet', 'Sea Girls')]"
      ]
     },
     "execution_count": 15,
     "metadata": {},
     "output_type": "execute_result"
    }
   ],
   "source": [
    "utils.get_top_n_similar_tracks(y, z, similarity_matrix, \"80s Mercedes\", \"Maren Morris\", 5)"
   ]
  },
  {
   "cell_type": "markdown",
   "id": "df9e1454-3650-41b1-ac8e-32e85fb39d01",
   "metadata": {},
   "source": [
    "### 2. Get similar songs using lyrics"
   ]
  },
  {
   "cell_type": "code",
   "execution_count": 12,
   "id": "d53f3fa7-71e9-4e64-bcea-fd47eeb246da",
   "metadata": {},
   "outputs": [
    {
     "name": "stdout",
     "output_type": "stream",
     "text": [
      "Searching for \"Californication\" by Red Hot Chilli Peppers...\n",
      "Done.\n"
     ]
    },
    {
     "data": {
      "text/plain": [
       "['californication',\n",
       " 'psychic',\n",
       " 'spy',\n",
       " 'china',\n",
       " 'try',\n",
       " 'steal',\n",
       " 'mind',\n",
       " 'elation',\n",
       " 'little',\n",
       " 'girl']"
      ]
     },
     "execution_count": 12,
     "metadata": {},
     "output_type": "execute_result"
    }
   ],
   "source": [
    "utils.get_song_lyrics(title=\"Californication\", artist=\"Red Hot Chilli Peppers\")[:10]"
   ]
  },
  {
   "cell_type": "code",
   "execution_count": 13,
   "id": "81fb12a8-8284-446a-9d51-dbc1024a8ee9",
   "metadata": {},
   "outputs": [],
   "source": [
    "TRACK_NAMES = audio_features_df_encoded['track_name'].values\n",
    "ARTISTS = audio_features_df_encoded['artist'].values"
   ]
  },
  {
   "cell_type": "code",
   "execution_count": 14,
   "id": "74efaffa-9e5b-4937-b45e-7326ea30aed6",
   "metadata": {
    "scrolled": true,
    "tags": []
   },
   "outputs": [
    {
     "name": "stdout",
     "output_type": "stream",
     "text": [
      "Searching for \"Who's Your Money On? (Plastic House)\" by Inhaler...\n",
      "Done.\n",
      "Searching for \"Ice Cream Sundae\" by Inhaler...\n",
      "Done.\n",
      "Searching for \"Habits\" by Plested...\n",
      "Done.\n",
      "Searching for \"Nervous\" by Maren Morris...\n",
      "Done.\n",
      "Searching for \"Feathered Indians\" by Tyler Childers...\n",
      "Done.\n",
      "Searching for \"Zuckerpunch\" by The Snuts...\n",
      "Done.\n",
      "Searching for \"Don't Leave Me This Way (feat. Teddy Pendergrass)\" by Harold Melvin & The Blue Notes...\n",
      "Done.\n",
      "Searching for \"To Lose My Life\" by White Lies...\n",
      "Done.\n",
      "Searching for \"Tokyo\" by White Lies...\n",
      "Done.\n",
      "Searching for \"Molly\" by Jordy Searcy...\n",
      "Done.\n",
      "Wall time: 10.1 s\n"
     ]
    }
   ],
   "source": [
    "%%time\n",
    "lyrics_df = utils.build_lyrics_df(TRACK_NAMES[:10], ARTISTS[:10])"
   ]
  },
  {
   "cell_type": "markdown",
   "id": "f7ed2138-d700-4692-984b-ae2febc042f7",
   "metadata": {},
   "source": [
    "#### CountVectorizer or TfidfVectorizer"
   ]
  },
  {
   "cell_type": "code",
   "execution_count": 15,
   "id": "55cd5ca2-fd9e-47ec-8639-7c98dace1293",
   "metadata": {
    "scrolled": true,
    "tags": []
   },
   "outputs": [],
   "source": [
    "clean_corpus = lyrics_df['lyrics'].values.tolist()"
   ]
  },
  {
   "cell_type": "code",
   "execution_count": 17,
   "id": "4a15668f-3aa6-40e9-bdf0-6a8fa314ca59",
   "metadata": {},
   "outputs": [
    {
     "data": {
      "text/plain": [
       "(10, 389)"
      ]
     },
     "execution_count": 17,
     "metadata": {},
     "output_type": "execute_result"
    }
   ],
   "source": [
    "cv = CountVectorizer(tokenizer=lambda doc: doc, lowercase=False)\n",
    "corpus_transformed = cv.fit_transform(clean_corpus)\n",
    "vocab = cv.get_feature_names()\n",
    "corpus_transformed.shape"
   ]
  },
  {
   "cell_type": "markdown",
   "id": "32ede9f5-efb7-439a-9161-e3a80b85d875",
   "metadata": {},
   "source": [
    "#### LDA"
   ]
  },
  {
   "cell_type": "code",
   "execution_count": 18,
   "id": "97e129fe-b287-412b-9b1e-55ef42f96277",
   "metadata": {},
   "outputs": [],
   "source": [
    "lda_model = LatentDirichletAllocation(n_components=5, max_iter=20)\n",
    "topics = lda_model.fit_transform(corpus_transformed)"
   ]
  },
  {
   "cell_type": "code",
   "execution_count": 19,
   "id": "615aa4f7-1235-4420-9188-fa622463c26f",
   "metadata": {},
   "outputs": [
    {
     "name": "stdout",
     "output_type": "stream",
     "text": [
      "Topic 1: ['leave' 'way' 'love' 'baby' 'tell' 'house' 'stay' 'money' 'come']\n",
      "Topic 2: ['let' 'time' 'die' 'grow' 'old' 'say' 'lose' 'nervous' 'love']\n",
      "Topic 3: ['going' 'to' 'break' 'easy' 'ice' 'cream' 'habit' 'sundae' 'get']\n",
      "Topic 4: ['find' 'right' 'wrong' 'new' 'tokyo' 'love' 'york' 'different' 'jupiter']\n",
      "Topic 5: ['molly' 'see' 'think' 'bad' 'wish' 'feel' 'want' 'heart' 'ask']\n"
     ]
    }
   ],
   "source": [
    "utils.get_top_n_topic_words(lda_model, vocab, 10)"
   ]
  },
  {
   "cell_type": "markdown",
   "id": "72dad67c-a074-4150-ab40-1e1ef41a67ac",
   "metadata": {},
   "source": [
    "#### Similarity"
   ]
  },
  {
   "cell_type": "code",
   "execution_count": 20,
   "id": "f680a073-6022-46b2-a03d-6dbd87de854a",
   "metadata": {},
   "outputs": [],
   "source": [
    "sim_matrix = cosine_similarity(topics)"
   ]
  },
  {
   "cell_type": "code",
   "execution_count": 21,
   "id": "6e7e67cf-373e-4dc9-81fa-b6121fe3e8e2",
   "metadata": {},
   "outputs": [
    {
     "data": {
      "text/plain": [
       "(10, 10)"
      ]
     },
     "execution_count": 21,
     "metadata": {},
     "output_type": "execute_result"
    }
   ],
   "source": [
    "sim_matrix.shape"
   ]
  },
  {
   "cell_type": "code",
   "execution_count": 22,
   "id": "5b6a01ce-fdf9-471e-a6de-08b78f57e888",
   "metadata": {},
   "outputs": [],
   "source": [
    "# helpers\n",
    "#artists = lyrics_df['artist'].values\n",
    "#track_names = lyrics_df['track_name'].values\n",
    "track_artist_idx = dict((y,x) for x,y in dict(enumerate(zip(TRACK_NAMES, ARTISTS))).items())"
   ]
  },
  {
   "cell_type": "code",
   "execution_count": 25,
   "id": "5004d17d-a4fd-46b8-923e-d06adcb6c72b",
   "metadata": {},
   "outputs": [
    {
     "data": {
      "text/plain": [
       "[('Habits', 'Plested'),\n",
       " ('Zuckerpunch', 'The Snuts'),\n",
       " ('Nervous', 'Maren Morris'),\n",
       " (\"Who's Your Money On? (Plastic House)\", 'Inhaler'),\n",
       " ('Molly', 'Jordy Searcy')]"
      ]
     },
     "execution_count": 25,
     "metadata": {},
     "output_type": "execute_result"
    }
   ],
   "source": [
    "utils.get_top_n_similar_tracks(TRACK_NAMES[:10], ARTISTS[:10], sim_matrix, \"Ice Cream Sundae\", \"Inhaler\", 5)"
   ]
  },
  {
   "cell_type": "code",
   "execution_count": 27,
   "id": "07c30c3a-9d78-43dc-a42c-fc1f5925cb3a",
   "metadata": {},
   "outputs": [],
   "source": [
    "GENIUS_ACCESS_TOKEN = os.environ.get('GENIUS_ACCESS_TOKEN')\n",
    "genius = lg.Genius(GENIUS_ACCESS_TOKEN,\n",
    "                   skip_non_songs=True, \n",
    "                   excluded_terms=[\"(Remix)\", \"(Live)\"], \n",
    "                   remove_section_headers=True)"
   ]
  },
  {
   "cell_type": "code",
   "execution_count": 28,
   "id": "32e1417d-68d9-40e0-af60-506ddfac9e2b",
   "metadata": {},
   "outputs": [
    {
     "name": "stdout",
     "output_type": "stream",
     "text": [
      "Searching for \"Zuckerpunch\" by The Snuts...\n",
      "Done.\n",
      "Zuckerpunch Lyrics\n",
      "Robotic, hypnotic, Amazonian shopping\n",
      "For the masses, and your cache says you need a little more plastic\n",
      "In your life, bro, is that right, no?\n",
      "All your clothes are from sweatshops\n",
      "And their savour is your labour, social handcuff enslavement\n",
      "Your search history is no mystery, rim-shot, kick, clap, hold\n",
      "From the South Beach to the cold East, the Middle East and Rome\n",
      "It's \"Tweet this, snap that,\" all the things that make you go \"Hmm\"\n",
      "A Zuckerpunch and a cold ass lunch, don't speak 'til you've been told\n",
      "\n",
      "So walk with me down memory lane\n",
      "When the phone in your pocket only had a few games\n",
      "I said, \"Yes, Mister, please help me beliеve, don't patronise, no\"\n",
      "Is this clickbait my new safе space? Sit back and do what you're told\n",
      "\n",
      "So walk with me down memory lane\n",
      "When the phone in your pocket only had a few games\n",
      "One snake, two snakes, now it's your brain\n",
      "Throw me the keys to your cuffs, and then I'll be on my way\n",
      "Walk with me down memory lane\n",
      "When the phone in your pocket only had a few games\n",
      "\n",
      "\n",
      "Are you willing to change your business model in the interest of protecting individual privacy?\n",
      "I just think I'm not sure what that means...Embed\n"
     ]
    }
   ],
   "source": [
    "song = genius.search_song(\"Zuckerpunch\", 'The Snuts')\n",
    "print(song.lyrics)"
   ]
  },
  {
   "cell_type": "code",
   "execution_count": null,
   "id": "34381fb3-fda3-4489-8962-f3dd04aef089",
   "metadata": {},
   "outputs": [],
   "source": []
  }
 ],
 "metadata": {
  "kernelspec": {
   "display_name": "Python 3",
   "language": "python",
   "name": "python3"
  },
  "language_info": {
   "codemirror_mode": {
    "name": "ipython",
    "version": 3
   },
   "file_extension": ".py",
   "mimetype": "text/x-python",
   "name": "python",
   "nbconvert_exporter": "python",
   "pygments_lexer": "ipython3",
   "version": "3.9.4"
  }
 },
 "nbformat": 4,
 "nbformat_minor": 5
}
